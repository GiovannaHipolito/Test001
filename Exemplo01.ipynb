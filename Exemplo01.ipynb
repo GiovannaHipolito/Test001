{
  "nbformat": 4,
  "nbformat_minor": 0,
  "metadata": {
    "colab": {
      "name": "Exemplo01.ipynb",
      "provenance": [],
      "authorship_tag": "ABX9TyNWYd9NtsGKKY/UF1QOQ7L7",
      "include_colab_link": true
    },
    "kernelspec": {
      "name": "python3",
      "display_name": "Python 3"
    }
  },
  "cells": [
    {
      "cell_type": "markdown",
      "metadata": {
        "id": "view-in-github",
        "colab_type": "text"
      },
      "source": [
        "<a href=\"https://colab.research.google.com/github/GiovannaHipolito/Test001/blob/master/Exemplo01.ipynb\" target=\"_parent\"><img src=\"https://colab.research.google.com/assets/colab-badge.svg\" alt=\"Open In Colab\"/></a>"
      ]
    },
    {
      "cell_type": "code",
      "metadata": {
        "id": "YcCe4wBE5_W5",
        "colab_type": "code",
        "colab": {}
      },
      "source": [
        ""
      ],
      "execution_count": null,
      "outputs": []
    },
    {
      "cell_type": "code",
      "metadata": {
        "id": "ALSDbvnrw_4L",
        "colab_type": "code",
        "colab": {
          "base_uri": "https://localhost:8080/",
          "height": 68
        },
        "outputId": "87c1c8fb-c10a-4caf-881f-9dd7d7b2cdf0"
      },
      "source": [
        "###isto é um comando de saída \n",
        "\n",
        "print (\"olá mundo cruel!!!\")\n",
        "print ('cruel world!!!')\n",
        "print (\"com aspas duplas\")\n",
        "\n",
        "# a hashtag é um comentário no código, ou seja, o programa não irá  processar nenhuma linha que estiver marcadda\n",
        "# o comando print () mostra na tela, ou seja, é uma saída de valor(es)\n",
        "# o conteúdo texto deve estar entre aspas (simples ou duplas)\n",
        "\n",
        "\n",
        "\n"
      ],
      "execution_count": null,
      "outputs": [
        {
          "output_type": "stream",
          "text": [
            "olá mundo cruel!!!\n",
            "cruel wordl!!!\n",
            "com aspas duplas\n"
          ],
          "name": "stdout"
        }
      ]
    },
    {
      "cell_type": "markdown",
      "metadata": {
        "id": "xQCmZI4D4x5r",
        "colab_type": "text"
      },
      "source": [
        "Esta é uma celula somente de texto.\n",
        "Aqui posso fazer formatações."
      ]
    },
    {
      "cell_type": "code",
      "metadata": {
        "id": "jsUvX1Z744De",
        "colab_type": "code",
        "colab": {}
      },
      "source": [
        ""
      ],
      "execution_count": null,
      "outputs": []
    },
    {
      "cell_type": "markdown",
      "metadata": {
        "id": "KHExU5fG5FB-",
        "colab_type": "text"
      },
      "source": [
        "Abaixo, vamos ver como mesclar uma saída de tela"
      ]
    },
    {
      "cell_type": "code",
      "metadata": {
        "id": "_6-l6ki55Hxk",
        "colab_type": "code",
        "colab": {
          "base_uri": "https://localhost:8080/",
          "height": 34
        },
        "outputId": "6c068740-8a57-4fde-87b9-c2b0367b3499"
      },
      "source": [
        "print('edson', 'melo', 'de', 'souza')\n"
      ],
      "execution_count": null,
      "outputs": [
        {
          "output_type": "stream",
          "text": [
            "edson melo de souza\n"
          ],
          "name": "stdout"
        }
      ]
    }
  ]
}